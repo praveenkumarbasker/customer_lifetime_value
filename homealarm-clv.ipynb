{
 "cells": [
  {
   "cell_type": "markdown",
   "metadata": {},
   "source": [
    "# Home Alarm CLV\n",
    "\n",
    "Prepare \"Home Alarm, Inc.: Assessing Customer Lifetime Value\" for class discussion and as an individual assignment and submit the assignment through GitLab. Be VERY clear about where results are coming from and what assumptions you are making in your Python code. It is in your best interest that we do not have to struggle to figure out where your numbers came from. The assignment (pdf) is on Canvas (week2/homealarm-clv.pdf). Example Excel calculations are also on Canvas (week1/aws-clv.xlsx and week1/notflix-cls.xlsx).\n",
    "\n",
    "## Setup\n",
    "\n",
    "Create a Jupyter notebook in which you calculate the CLV for a customer that uses auto-pay and for a customer that does not use auto-pay and answer question 1 through 4 in the assignment PDF.\n",
    "\n",
    "## Hints\n",
    "\n",
    "Add text motivating your work in Markdown format. Markdown is a simple formatting syntax for authoring HTML. For more details on using markdown go to http://commonmark.org/help/ for a 10-minute interactive Markdown tutorial\n",
    "\n",
    "Please generate an HTML (Notebook) with your answers to all the questions listed in the homealarm-clv.pdf file on Canvas. When you have finished editing the jupyter notebook and havengenerated the HTML report make sure to save, commit, and push to GitLab. We will collect all files from GitLab after the due date.\n",
    "\n",
    "Use File > Export Notebook As... > Export Notebook to HTML to get the html report and include to the jupyter notebook file and the HTML file in your submission.\n",
    "\n",
    "## Analysis\n",
    "\n",
    "The python dictionary below contains information about attrition notifications from the table on page 3 of the assignment PDF.\n",
    "\n",
    "Note: GitLab will automatically tests if your work is fully reproducible each time you \"push\" changes (see .gitlab-ci.yml for the configuration). If you get an email from GitLab stating that there was an error, it suggests a problem in your code. Note that the setup for the Home Alarm assignment will *not* test if your analysis is correct. GitLab will only check if the code is valid and runs without issue in the docker container."
   ]
  },
  {
   "cell_type": "code",
   "execution_count": 2,
   "metadata": {},
   "outputs": [],
   "source": [
    "import pandas as pd\n",
    "import numpy as np\n",
    "import seaborn as sns\n",
    "import matplotlib.pyplot as plt"
   ]
  },
  {
   "cell_type": "code",
   "execution_count": 3,
   "metadata": {
    "lines_to_next_cell": 2
   },
   "outputs": [],
   "source": [
    "churn = pd.DataFrame(\n",
    "    {\n",
    "        \"autopay\": [0.032, 0.070, 0.097, 0.103, 0.095, 0.078, 0.069, 0.059, 0.053],\n",
    "        \"no_autopay\": [0.084, 0.122, 0.162, 0.154, 0.134, 0.120, 0.111, 0.096, 0.086],\n",
    "    }\n",
    ")"
   ]
  },
  {
   "cell_type": "markdown",
   "metadata": {},
   "source": [
    "### Calculate CLV for autopay customers"
   ]
  },
  {
   "cell_type": "code",
   "execution_count": 4,
   "metadata": {},
   "outputs": [],
   "source": [
    "\n",
    "#DF\n",
    "d1={'Autopay CLV':['Revenue','Service Cost','Marketting Cost','Customer Profit','Churn rate','Prob.of being active at end of period','Profit expected on average','Discount','Present value of expected profits','CLV'],'Today-end of year 1':[0]*10}\n",
    "d2=['Month %i' %i for i in range(1,97)]\n",
    "df1=pd.DataFrame(data=d1)\n",
    "df2=pd.DataFrame(0,index=np.arange(10),columns=d2)\n",
    "apc=pd.concat([df1,df2],axis=1).set_index('Autopay CLV')\n",
    "\n",
    "#Revenue\n",
    "apc.loc['Revenue']=apc.loc['Revenue'].astype(float)\n",
    "apc.loc['Revenue']['Month 1':'Month 12'] = 40\n",
    "for i in range(13,97):\n",
    "    p='Month %i' %i\n",
    "    q='Month %i' %(i-12)\n",
    "    apc.loc['Revenue'][p]=apc.loc['Revenue'][q]*1.03\n",
    "\n",
    "#Service cost\n",
    "apc.loc['Service Cost']=apc.loc['Revenue']*0.15\n",
    "\n",
    "#Marketting cost\n",
    "apc.loc['Marketting Cost']=apc.loc['Revenue']*0.05\n",
    "\n",
    "#Customer Profit\n",
    "apc.loc['Customer Profit']=apc.loc['Revenue']-apc.loc['Service Cost']-apc.loc['Marketting Cost']\n",
    "\n",
    "#Churn\n",
    "nc=churn['autopay'] \n",
    "apc.loc['Churn rate']['Today-end of year 1']=1\n",
    "apc.loc['Churn rate']['Month 1']=nc[0]\n",
    "\n",
    "for i in range(1,8):\n",
    "    j=1 + i*12\n",
    "    p='Month %i' %j\n",
    "    apc.loc['Churn rate'][p]=nc[i]\n",
    "\n",
    "#Prob of being active at the end of the period\n",
    "apc.loc['Prob.of being active at end of period']['Today-end of year 1']=1\n",
    "apc.loc['Prob.of being active at end of period']['Month 1']=apc.loc['Prob.of being active at end of period']['Today-end of year 1'] * (1-apc.loc['Churn rate']['Month 1'])\n",
    "for i in range(3,98):\n",
    "    p='Month %i' %(i-1)\n",
    "    q='Month %i' %(i-2)\n",
    "    apc.loc['Prob.of being active at end of period'][p]=apc.loc['Prob.of being active at end of period'][q] * (1-apc.loc['Churn rate'][p])\n",
    "    \n",
    "#Profit expected on average\n",
    "apc.loc['Profit expected on average']=apc.loc['Customer Profit'] * apc.loc['Prob.of being active at end of period']\n",
    "\n",
    "#Discount\n",
    "apc.loc['Discount']=list(range(0,97))\n",
    "\n",
    "#Present value of expected profits\n",
    "apc.loc['Present value of expected profits']=apc.loc['Profit expected on average']/(1.00797414)**apc.loc['Discount']\n",
    "\n",
    "#CLV\n",
    "apc.loc['CLV']['Month 1']=apc.loc['Present value of expected profits']['Month 1']\n",
    "for i in range(3,98):\n",
    "    p='Month %i' %(i-1)\n",
    "    q='Month %i' %(i-2)\n",
    "    apc.loc['CLV'][p]=apc.loc['CLV'][q] + apc.loc['Present value of expected profits'][p]\n",
    "\n",
    "CLV_apc=apc.round(decimals=3)"
   ]
  },
  {
   "cell_type": "code",
   "execution_count": null,
   "metadata": {},
   "outputs": [],
   "source": [
    "# list your assumptions here\n",
    "# 1) The contracts are on yearly basis and so if a person wishes not to continue the contract they still have to payout for the remaining year till the contract ends.\n",
    "# 2) The churn out is considered year-on-year basis and the type of churn is optimistic churn as the billing is done at the end of the month\n",
    "# 3) The annual discount rate is assumed to be 10% and the discounting is done monthly as the payments are monthly. \n",
    "# 4) The cohort under study is into its second year but the churn at the end of the first is 100% \n",
    "# 5) The installation charges are not considered in the calculation as the current cohort is entering second year the initial waiver of $297 would have been covered by the profits from the first year contract.\n",
    "# 6) The churn of year 9 is not considered in the CLV calculation as it is the value for the people who disclose that they are not renewing the contract for year 10.\n",
    "# 7) The calculation is done on -per customer- basis of the cohort and hence we are not assuming the number of people in the cohort.\n",
    "# 8) Although historic initial RMR has been $30, due to the general rate changes the RMR is $40 and hence the same has been considered for the first year of the calculation. \n",
    "# 9) All the above assumptions are same for both groups- Auto pay and Non Auto pay."
   ]
  },
  {
   "cell_type": "code",
   "execution_count": 5,
   "metadata": {
    "lines_to_next_cell": 2
   },
   "outputs": [
    {
     "name": "stdout",
     "output_type": "stream",
     "text": [
      "The CLV of a customer using autopay (8 years out) is 1745.94\n"
     ]
    }
   ],
   "source": [
    "#Question-1\n",
    "#What is the CLV of the customer who uses autopay?\n",
    "# calculate clv here\n",
    "Autopay_CLV = apc.loc['CLV']['Month 96']\n",
    "print(f\"The CLV of a customer using autopay (8 years out) is {Autopay_CLV.round(2)}\")"
   ]
  },
  {
   "cell_type": "markdown",
   "metadata": {
    "lines_to_next_cell": 0
   },
   "source": [
    "### Calculate CLV for non-autopay customers"
   ]
  },
  {
   "cell_type": "code",
   "execution_count": 6,
   "metadata": {
    "lines_to_next_cell": 2
   },
   "outputs": [],
   "source": [
    "\n",
    "#DF\n",
    "d3={'Non Autopay CLV':['Revenue','Service Cost','Marketting Cost','Customer Profit','Churn rate','Prob.of being active at end of period','Profit expected on average','Discount','Present value of expected profits','CLV'],'Today-end of year 1':[0]*10}\n",
    "d4=['Month %i' %i for i in range(1,97)]\n",
    "df3=pd.DataFrame(data=d3)\n",
    "df4=pd.DataFrame(0,index=np.arange(10),columns=d4)\n",
    "napc=pd.concat([df3,df4],axis=1).set_index('Non Autopay CLV')\n",
    "\n",
    "#Revenue\n",
    "napc.loc['Revenue']=napc.loc['Revenue'].astype(float)\n",
    "napc.loc['Revenue']['Month 1':'Month 12'] = 40\n",
    "for i in range(13,97):\n",
    "    p='Month %i' %i\n",
    "    q='Month %i' %(i-12)\n",
    "    napc.loc['Revenue'][p]=napc.loc['Revenue'][q]*1.03\n",
    "\n",
    "#Service cost\n",
    "napc.loc['Service Cost']=napc.loc['Revenue']*0.15\n",
    "\n",
    "#Marketting cost\n",
    "napc.loc['Marketting Cost']=napc.loc['Revenue']*0.05\n",
    "\n",
    "#Customer Profit\n",
    "napc.loc['Customer Profit']=napc.loc['Revenue']-napc.loc['Service Cost']-napc.loc['Marketting Cost']\n",
    "\n",
    "#Churn\n",
    "nnc=churn['no_autopay'] \n",
    "napc.loc['Churn rate']['Today-end of year 1']=1\n",
    "napc.loc['Churn rate']['Month 1']=nnc[0]\n",
    "\n",
    "for i in range(1,8):\n",
    "    j=1 + i*12\n",
    "    p='Month %i' %j\n",
    "    napc.loc['Churn rate'][p]=nnc[i]\n",
    "\n",
    "#Prob of being active at the end of the period\n",
    "napc.loc['Prob.of being active at end of period']['Today-end of year 1']=1\n",
    "napc.loc['Prob.of being active at end of period']['Month 1']=napc.loc['Prob.of being active at end of period']['Today-end of year 1'] * (1-napc.loc['Churn rate']['Month 1'])\n",
    "\n",
    "for i in range(3,98):\n",
    "    p='Month %i' %(i-1)\n",
    "    q='Month %i' %(i-2)\n",
    "    napc.loc['Prob.of being active at end of period'][p]=napc.loc['Prob.of being active at end of period'][q] * (1-napc.loc['Churn rate'][p])\n",
    "    \n",
    "#Profit expected on average\n",
    "napc.loc['Profit expected on average']=napc.loc['Customer Profit'] * napc.loc['Prob.of being active at end of period']\n",
    "\n",
    "#Discount\n",
    "napc.loc['Discount']=list(range(0,97))\n",
    "\n",
    "#Present value of expected profits\n",
    "napc.loc['Present value of expected profits']=napc.loc['Profit expected on average']/(1.00797414)**napc.loc['Discount']\n",
    "\n",
    "#CLV\n",
    "napc.loc['CLV']['Month 1']=napc.loc['Present value of expected profits']['Month 1']\n",
    "for i in range(3,98):\n",
    "    p='Month %i' %(i-1)\n",
    "    q='Month %i' %(i-2)\n",
    "    napc.loc['CLV'][p]=napc.loc['CLV'][q] + napc.loc['Present value of expected profits'][p]\n",
    "\n",
    "CLV_napc=napc.round(decimals=3)"
   ]
  },
  {
   "cell_type": "code",
   "execution_count": null,
   "metadata": {
    "lines_to_next_cell": 0
   },
   "outputs": [],
   "source": [
    "# list your assumptions here ( Same as that of Auto pay group)\n",
    "# 1) The contracts are on yearly basis and so if a person wishes not to continue the contract they still have to payout for the remaining year till the contract ends.\n",
    "# 2) The churn out is considered year-on-year basis and the type of churn is optimistic churn as the billing is done at the end of the month\n",
    "# 3) The annual discount rate is assumed to be 10% and the discounting is done monthly as the payments are monthly. \n",
    "# 4) The cohort under study is into its second year but the churn at the end of the first is 100% \n",
    "# 5) The installation charges are not considered in the calculation as the current cohort is entering second year the initial waiver of $297 would have been covered by the profits from the first year contract.\n",
    "# 6) The churn of year 9 is not considered in the CLV calculation as it is the value for the people who disclose that they are not renewing the contract for year 10.\n",
    "# 7) The calculation is done on -per customer- basis of the cohort and hence we are not assuming the number of people in the cohort.\n",
    "# 8) Although historic initial RMR has been $30, due to the general rate changes the RMR is $40 and hence the same has been considered for the first year of the calculation. \n",
    "# 9) All the above assumptions are same for both groups- Auto pay and Non Auto pay."
   ]
  },
  {
   "cell_type": "code",
   "execution_count": 7,
   "metadata": {},
   "outputs": [
    {
     "name": "stdout",
     "output_type": "stream",
     "text": [
      "The CLV of a customer not using autopay (8 years out) is 1423.21\n"
     ]
    }
   ],
   "source": [
    "#Question-2\n",
    "#What is the CLV of the customer who does not use autopay?\n",
    "# calculate clv here\n",
    "No_autopay_CLV = napc.loc['CLV']['Month 96']\n",
    "print(f\"The CLV of a customer not using autopay (8 years out) is {No_autopay_CLV.round(2)}\")"
   ]
  },
  {
   "cell_type": "markdown",
   "metadata": {},
   "source": [
    "### Create a line graph of CLV for both autopay and non-autopay customer"
   ]
  },
  {
   "cell_type": "code",
   "execution_count": 8,
   "metadata": {},
   "outputs": [
    {
     "data": {
      "image/png": "[encoded data removed]",
      "text/plain": [
       "<Figure size 432x288 with 1 Axes>"
      ]
     },
     "metadata": {
      "needs_background": "light"
     },
     "output_type": "display_data"
    }
   ],
   "source": [
    "# enter your code here\n",
    "clvplt=pd.DataFrame({'Months':list(range(0,97)),'autopay':CLV_apc.loc['CLV'],'no_autopay':CLV_napc.loc['CLV']}).reset_index()[1:98]\n",
    "clvplt=pd.melt(clvplt, id_vars=['Months'], value_vars=['autopay', 'no_autopay'], var_name='Payment type', value_name='CLV')\n",
    "clvplot=sns.lineplot(x=\"Months\", y=\"CLV\",hue='Payment type',data=clvplt)"
   ]
  },
  {
   "cell_type": "markdown",
   "metadata": {},
   "source": [
    "### Create a line graph of the retention rate for both autopay and non-autopay customer "
   ]
  },
  {
   "cell_type": "code",
   "execution_count": 9,
   "metadata": {
    "lines_to_next_cell": 2
   },
   "outputs": [
    {
     "data": {
      "image/png": "[encoded data removed]",
      "text/plain": [
       "<Figure size 432x288 with 1 Axes>"
      ]
     },
     "metadata": {
      "needs_background": "light"
     },
     "output_type": "display_data"
    }
   ],
   "source": [
    "# enter your code here\n",
    "year=['year1','year2','year3','year4','year5','year6','year7','year8','year9']\n",
    "retention=pd.DataFrame({'Year':year,'autopay':CLV_apc.loc['Prob.of being active at end of period'].unique(),'no_autopay':CLV_napc.loc['Prob.of being active at end of period'].unique()})\n",
    "retention=pd.melt(retention, id_vars=['Year'], value_vars=['autopay', 'no_autopay'], var_name='Payment type', value_name='Retention %')\n",
    "retention['Retention %']=retention['Retention %']\n",
    "rplot=sns.lineplot(x=\"Year\", y=\"Retention %\",hue='Payment type',data=retention,marker='v')"
   ]
  },
  {
   "cell_type": "markdown",
   "metadata": {},
   "source": [
    "### Calculate the maximum amount to spend on autopay incentives"
   ]
  },
  {
   "cell_type": "code",
   "execution_count": 10,
   "metadata": {},
   "outputs": [
    {
     "name": "stdout",
     "output_type": "stream",
     "text": [
      "Maximum amount to spend on autopay incentives is 322.73\n"
     ]
    }
   ],
   "source": [
    "# Question-3\n",
    "# What is the maximum amount home alarm should spend on incentives to convert an existing customer to autopay\n",
    "max_pay = Autopay_CLV - No_autopay_CLV\n",
    "print(f\"Maximum amount to spend on autopay incentives is {max_pay.round(2)}\")"
   ]
  },
  {
   "cell_type": "markdown",
   "metadata": {
    "lines_to_next_cell": 2
   },
   "source": [
    "### Suggested marketing actions\n",
    "\n",
    "Suggest three marketing actions Home Alarm should consider to convert existing customers to autopay who are about to start their second year with Home Alarm. Be specific about incentive amounts you recommend using (if any)"
   ]
  },
  {
   "cell_type": "code",
   "execution_count": null,
   "metadata": {
    "lines_to_next_cell": 0
   },
   "outputs": [],
   "source": [
    "# Question-4\n",
    "\n",
    "#1)\n",
    "#The company shall ask the customers to sign up for auto pay at the initial contract signing by waiving off the $195 paid towards the installation charge. \n",
    "#Still the company will have a profit of $322.73-$195=$127.73 extra in the longer run of 9 years\n",
    "#installation charge $495\n",
    "#present waiver $297\n",
    "#proposed waiver for auto-pay $195 (Full waiver)\n",
    "\n",
    "# Evidence to prove the effectiveness of full waiver and against any possible loss\n",
    "\n",
    "#Revenue first year = $480\n",
    "#Customer profit after costs= $384\n",
    "#Present value of is $349 at the end of year1\n",
    "\n",
    "#Revenue from second year= ($480*1.03*96.8%)=$478.58\n",
    "#Customer profit after costs= $379.7\n",
    "#Present value of is $313.8 at the end of year1\n",
    "\n",
    "#The net value if the customer continues into second year=$349+$314=$663\n",
    "\n",
    "# The above calculation ascertains that if the customer signs up for auto pay and renews the contract for second year, there is no loss to the company because of full installation waiver.\n",
    "# there is 3.2% chance of ($495-$349=$146) $146 loss as against 8.4% chance in the non auto pay category which is still negligible considering the miniscule probabililty and majority of cohort renewing the contract into the second year\n",
    "\n",
    "#2)\n",
    "\n",
    "# If for any reason, the company donot want to compromise on the partial installation charge of $195 up front and also to convert existing customers to autopay the company shall run a campaign that provides a cashback $200 if the customer signs up for autopay and renew the contract at the year. \n",
    "# $200 shall be provided as a gift card once the contract is renewed there by eliminating possible loss\n",
    "#Revenue first year= $480\n",
    "#Customer profit after costs= $384\n",
    "#Present value of it is $349 at the end of year1\n",
    "#Installation cost $297 ($492-$195) (Future value of $297 not calculated as it may be negligible and still the company would have recovered the initial expenses)\n",
    "\n",
    "#Still the company will have a profit of $322.73-$200=$122.73 extra in the longer run of 9 years\n",
    "\n",
    "#3) \n",
    "\n",
    "#Promising a fixed subscription of $40 as against 3% general increase in the subscription charges if the customer signs up for the autopay\n",
    "#The CLV is $1615 8 years out as against $1423 in non autopay still providing the company extra $192 profits. \n",
    "#This option may seem like providing a little returns to the customers but the idea of fixed subscription charge which saves few dollars per month may be a proper USP for autopay campaign.\n",
    "\n",
    "#4)\n",
    "#Promising a discounted subscription of $30 as the subscription charges for next 1-2 years if the customer signs up for the autopay\n",
    "#The i) 2years discounted charge of $30\n",
    "#CLV is $1511 8 years out as against $1423 in non autopay still providing the company extra $88 profits. \n"
   ]
  },
  {
   "cell_type": "code",
   "execution_count": null,
   "metadata": {
    "lines_to_next_cell": 3
   },
   "outputs": [],
   "source": []
  }
 ],
 "metadata": {
  "jupytext": {
   "formats": "ipynb,py:percent"
  },
  "kernelspec": {
   "display_name": "Python 3",
   "language": "python",
   "name": "python3"
  },
  "language_info": {
   "codemirror_mode": {
    "name": "ipython",
    "version": 3
   },
   "file_extension": ".py",
   "mimetype": "text/x-python",
   "name": "python",
   "nbconvert_exporter": "python",
   "pygments_lexer": "ipython3",
   "version": "3.8.5"
  }
 },
 "nbformat": 4,
 "nbformat_minor": 4
}
